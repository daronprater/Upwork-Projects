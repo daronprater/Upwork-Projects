{
 "cells": [
  {
   "cell_type": "markdown",
   "metadata": {
    "collapsed": true
   },
   "source": [
    "## First 6 cells gets everything set up, last cell actually sends the emails."
   ]
  },
  {
   "cell_type": "code",
   "execution_count": null,
   "metadata": {
    "collapsed": true
   },
   "outputs": [],
   "source": [
    "import smtplib\n",
    "import pandas as pd\n",
    "import numpy as np\n",
    "from tkinter import *\n",
    "from tkinter.filedialog import askopenfilename\n",
    "import time"
   ]
  },
  {
   "cell_type": "code",
   "execution_count": 9,
   "metadata": {},
   "outputs": [
    {
     "name": "stdout",
     "output_type": "stream",
     "text": [
      "C:/Users/Daron/OneDrive/Documents/DS/Data-Science-Projects/Schools 1-300.xlsx\n"
     ]
    }
   ],
   "source": [
    "root = Tk()\n",
    "root.withdraw()\n",
    "filename = askopenfilename(parent=root)\n",
    "print(filename)\n"
   ]
  },
  {
   "cell_type": "code",
   "execution_count": 16,
   "metadata": {
    "collapsed": true
   },
   "outputs": [],
   "source": [
    "emails = pd.read_excel(filename, sheetname='Schools')"
   ]
  },
  {
   "cell_type": "code",
   "execution_count": 43,
   "metadata": {
    "collapsed": true
   },
   "outputs": [],
   "source": [
    "#Clean Emails\n",
    "emails = emails[emails['Email address'].notnull()].reset_index(drop=True)\n",
    "emails['Name'] = emails['Name'].apply(lambda x: x.replace(u'\\u2019', \"'\"))\n",
    "emails['Name']= emails['Name'].apply(lambda x: ''.join([i if ord(i) < 128 else ' ' for i in x]))\n",
    "emails['Test Name'] = emails['Name'].apply(lambda x: x.split()[0][:-1].lower())\n",
    "emails['First Name'] = emails['Name'].apply(lambda x: x.split()[1] if x.split()[0][-2].lower() + x.split()[0][-1] =='r.' or x.split()[0][:-1].lower() == 'mrs' or x.split()[0].lower() == 'father' or  x.split()[0] == 'D.' else x.split()[0])\n",
    "emails['First Name'] = emails['First Name'].apply(lambda x: x.title())\n",
    "#Assert no nulls in email column\n",
    "#assert sum(emails['Email address'].isnull()) == 0"
   ]
  },
  {
   "cell_type": "code",
   "execution_count": 44,
   "metadata": {},
   "outputs": [
    {
     "name": "stdout",
     "output_type": "stream",
     "text": [
      "John ,  John Palfrey\n",
      "Lisa ,  Lisa MacFarlane\n",
      "Mark ,  Mark Bailey\n",
      "Stephen ,  Stephen Sheals Murray\n",
      "Alex ,  Dr. Alex Curtis\n",
      "Bernie ,  Bernie Noe\n",
      "Kelly ,  Mrs. Kelly Mooney\n",
      "Margarita ,  Dr. Margarita O'Byrne Curtis\n",
      "Richard ,  Richard B. Commons\n",
      "Thomas ,  Dr. Thomas Kelly\n",
      "Monique ,  Monique DeVane\n",
      "Brian ,  Brian Yager\n",
      "Alasdair ,  Alasdair Kennedy\n",
      "Michael ,   Michael Murphy\n",
      "Temba ,  Temba Maqubela\n",
      "Catherine ,  Catherine J. Hall, Ph.D.\n",
      "Bryan ,  Bryan Garman\n",
      "John ,  John W. Bracker\n",
      "David ,  David W. Dini\n",
      "Nicholas ,  Nicholas Sampson\n",
      "Sarah ,  Sarah Pelmas\n",
      "Peter ,  Peter Bachmann\n",
      "Patrick ,  Patrick Derham\n",
      "Lee ,  Lee M. Levison\n",
      "Timothy ,  Timothy Devine\n",
      "Craig ,  Craig W. Bradley\n",
      "Kelly ,  Kelly L. Mest\n",
      "Penny ,  Penny Townsend\n",
      "Tomohiro ,  Tomohiro Hoshi, Ph.D.\n",
      "Troy ,  Troy Gobble[1]\n",
      "Gary ,  Dr. Gary Tocchet\n",
      "Elizabeth ,  Elizabeth J. McGregor\n",
      "Dominic ,  Dominic A.A. Randolph\n",
      "Caron ,  Caron Swatley\n",
      "Nanci ,  Nanci Z. Kauffman\n",
      "Karen ,  Karen Coleman\n",
      "Benjamin ,  Benjamin Williams IV\n",
      "Kathleen ,  Kathleen C. Giles\n",
      "Kathleen ,  Kathleen O'Neill Jamieson\n",
      "Glen ,  Glen Shilling\n",
      "Matthew ,  Matthew Nespole\n",
      "Ann ,  Ann Bonitatibus\n",
      "Ellen ,  Ellen Stein\n",
      "Christina ,  Christina Mazzola\n",
      "Robert ,  Robert hernandez\n",
      "Dana ,  Dana Weeks\n",
      "Kai ,  Kai Bynum\n",
      "Scott ,  Scott A. Griggs\n",
      "Eric ,  Eric J. Temple\n",
      "Michael ,  Michael K. Mulligan\n",
      "Theodorick ,  Theodorick B. Bland/ Todd Bland\n",
      "Joyce ,  Joyce Dorsey Kenner\n",
      "John ,  John Strudwick\n",
      "Ann ,  Ann Owens\n",
      "Aimeclaire ,  Aimeclaire Roche\n",
      "Priscilla ,  DR. Priscilla Sands\n",
      "Rebecca ,   Rebecca T. Upham\n",
      "Donald ,  Donald Austin\n",
      "Amy ,  Amy Richards\n",
      "Charlie ,  Charlie Abelmann\n",
      "Scott ,  Scott Nelson\n",
      "Mark ,  Mark Desjardins\n",
      "Andy ,  Andy Abbott\n",
      "Crystal ,  Crystal M. Land\n",
      "Patrica ,  Dr. Patrica T. Hayot\n",
      "Eric ,  Eric Contreras\n",
      "Than ,  Than Healy\n",
      "Arnold ,  Arnold Shorey\n",
      "Chris ,  Chris Gunnin\n",
      "Germain ,  Germain McConnell, Ph.D.\n",
      "Rodney ,  Dr. Rodney V. De Jarnett\n",
      "Paul ,  Paul J. Stellato\n",
      "Jack ,  Jack Creeden\n",
      "Julia ,  Julia  Eells\n",
      "Mark ,  Mark Erlenwein\n",
      "Michael ,  Michael C. Wirtz\n",
      "Marjo ,  Marjo Talbott\n",
      "Susanna ,  Susanna A. Jones\n",
      "Vincent ,  Vincent Durnan \n",
      "I.V. ,  I.V. Bray\n",
      "Peter ,  Peter Quinn\n",
      "Nathaniel ,  Nathaniel E. Conard\n",
      "Russell ,  Russell Davis\n",
      "James ,  James  Lindsay\n",
      "Richardson ,  Richardson W. Schel\n",
      "Scott ,  Scott Nelson\n",
      "Ian ,  Ian Davies\n",
      "Paul ,  Dr. Paul Baker\n",
      "Matthew ,  Matthew P. Horvat\n",
      "Audrius ,  Audrius Barzdukas\n",
      "Molly ,  Molly H. King\n",
      "Jennifer ,   Jennifer Jenny Rao\n",
      "Kevin ,  Kevin Yaley \n",
      "Willy ,  Willy MacMullen\n",
      "Sidney ,  Sidney A. Rowell\n",
      "Rick ,  Rick Hardy\n",
      "Pilar ,  PILAR CABEZA DE VACA\n",
      "Steven ,  Dr. Steven Loy\n",
      "Anne ,  Anne Stavney\n",
      "Kerry ,  Kerry P. Brennan\n",
      "Christopher ,  Christopher D. Burner\n",
      "Lisa ,   Lisa Lyle\n",
      "Daniel ,  DANIEL T. ROACH\n",
      "Andrew ,  Andrew D. Martire\n",
      "Joshua ,  Joshua Crane\n",
      "Patricia ,  Patricia Merz\n",
      "Randall ,  Randall Dunn\n",
      "John ,  John Kowalik\n",
      "Richard ,  Dr. Richard I. Melvoin\n",
      "Thomas/Tom ,  Thomas/Tom J. Flemma\n",
      "Stacia ,  Stacia Crescenzi\n",
      "Mark ,  Mark McKee \n",
      "Jean ,  Jean M. Donahue\n",
      "Kristen ,  Kristen Jordison\n",
      "Cormac ,  Cormac Lynn\n",
      "John ,  Dr. John Nagl\n",
      "Paul ,  BR. PAUL DIVENY O.S.B.\n",
      "Marisa ,  Marisa Porges\n",
      "Sheila ,  Sheila Culbert\n",
      "Bob ,  Bob Carignan\n",
      "Jennifer ,  Jennifer C. Galambos\n",
      "William ,  William V. Webb\n",
      "Andy ,  Andy Watson\n",
      "Jim ,  Jim Power\n",
      "Russell ,  Russell Shaw\n",
      "Mark ,  Mark Salkind\n",
      "Tim ,  Tim Bazemore\n",
      "Thomas ,  Thomas Joseph (T. J.) Locke\n",
      "Dana ,  Dana Markham\n",
      "Samuel ,  Samuel Paoli\n",
      "Robert ,  Robert \"Bo\" Lauder\n",
      "Bruce ,  Dr. Bruce Dennis\n",
      "David ,  David Tankard\n",
      "Bob ,  Bob Riddle\n",
      "Elizabeth ,  Elizabeth English\n",
      "Sue ,  Sue Sadler \n",
      "Vickie ,  Dr. Vickie Barton\n",
      "Laura ,  Laura Fuller \n",
      "Mo ,  Mo Copeland\n",
      "Kathleen ,  Kathleen Laurence\n",
      "Caroline ,  Caroline Blatti\n",
      "Dan ,  Dan Miller\n",
      "Brett ,  Brett Killeen \n",
      "Tom ,   Tom Gilder\n",
      "Linda ,  Linda L. Yonke\n",
      "Zack ,  Zack Lehman\n",
      "Vincent ,   Vincent J. Tompkins, Jr\n",
      "Joe ,  Joe Hulsey\n",
      "Katherine ,  Katherine M. Titus\n",
      "Paul ,  Paul C. Rafalowski\n",
      "Michael ,  Michael Barney\n",
      "Jane ,  Jane Foley Fried\n",
      "Robert ,  Dr. Robert C. Lowerre\n",
      "Paul ,  Fr. Paul McCormick , O.Cist.\n",
      "Thomas ,  Thomas W. Nammack\n",
      "William ,  William Walsh\n",
      "William ,  Dr. William Donohue\n",
      "Wendy ,  Wendy L. Hill\n",
      "Jane ,  Sr. Jane Meyer O.P.\n",
      "Jonathan ,  Jonathan Brougham \n",
      "Jessica ,  Jessica Bagby\n",
      "Eric ,  Eric Niles\n",
      "Raymond ,  Raymond Broadhead\n",
      "Kevin ,   Kevin Bals\n",
      "William ,  William Christ\n",
      "Paul ,  Paul Mucciarone\n",
      "Ken ,   Ken Lojo\n",
      "Stephen ,   Dr. Stephen Druggan\n",
      "James ,  James Scott\n",
      "Craig ,  Craig Sellers\n",
      "Sam ,  Sam Houser\n",
      "Thomas ,  Thomas Philip\n",
      "Ed ,  Ed Kim\n",
      "Richard ,  Richard Dioli\n",
      "Ted ,  Dr. Ted Struck\n",
      "Benjamin ,  Benjamin Mackey\n",
      "Christopher ,  Dr. Christopher Gitz\n",
      "James/Jim ,  James/Jim Astman\n",
      "Frank ,  Frank Kozakowski \n",
      "Carl ,  Carl Pelofsky\n",
      "Dan ,  Dan Gutchewsky\n",
      "Michael ,  Dr. Michael Riggle\n",
      "Andrew ,  Andrew Rodin\n",
      "Scott ,  D. Scott Looney\n",
      "Jim ,  Jim Neill\n",
      "Tom ,  Tom Cangiano \n",
      "Bill ,  Bill Hudson\n",
      "Bill ,  Bill Wharton\n",
      "Bryn ,  Bryn Roberts\n",
      "Travis ,  Travis Brownley\n",
      "Clayton ,  Clayton W. Lewis\n",
      "Randal ,  Randal Harrington\n",
      "Mike ,  Mike Davis\n",
      "Steve ,   Steve Cochrane \n",
      "Ted ,  Dr. Ted Struck\n",
      "Paul ,  Paul Joseph Powers\n",
      "Eric ,  Mr. Eric Herman\n",
      "Paul ,  Paul Robinson\n",
      "Peter ,  Peter B. Fayroian\n",
      "Jeremy ,  Jeremy Gregersen\n",
      "Bill ,  Bill Crittenberger \n",
      "William ,  William L. Burke III\n",
      "Mike ,  Mike Ehrhardt\n",
      "James ,  James Busby\n",
      "Katherine ,  Katherine G. Windsor\n",
      "Kathleen ,  Kathleen McCabe\n",
      "Lisa ,  Lisa Darling\n",
      "Stuart ,  STUART GULLEY\n",
      "Lee ,  Lee Burns\n",
      "Kolia ,  Kolia O'Connor\n",
      "Hana ,  Hana Kanan\n",
      "Gary ,  Dr. Gary W. Krahn\n",
      "Gregory ,  Father Gregory Mohrman\n",
      "Richard ,  Dr. Richard Gusick\n",
      "Steve ,  Steve Ramsey\n",
      "Joseph ,  Joseph W. Seivold\n",
      "Sean ,   Sean Meehan\n",
      "Brian ,  Brian Condon\n",
      "Robert ,  Robert Vitalo\n",
      "Meg ,  Meg Steele\n",
      "Patrick ,  Dr. Patrick Widhalm\n",
      "Linda ,  Linda Kidd\n",
      "Brian ,  Brian Tennison\n",
      "Percy ,  Percy Abram\n",
      "Chris ,  Chris Fortunato\n",
      "Andrew ,  Andrew Stephens\n",
      "Robert ,  Robert Brisk\n",
      "Ryan ,  Ryan Kelly\n",
      "Melissa ,  Melissa Soderberg\n",
      "Jonathan ,  Jonathan Eades\n",
      "Joan ,   Joan Rosenberg\n",
      "Henry ,  Henry Smyth\n",
      "Frank ,  Frank Silver\n",
      "Ari ,   Ari Betof \n",
      "William ,  William Philip\n",
      "Prentiss ,   Prentiss Lea\n",
      "Joseph ,  Joseph Ciancaglini\n",
      "Laura ,  Laura Danforth\n",
      "Frank ,  Frank Steel\n",
      "Olen ,  Olen Kalkus\n",
      "Andrew ,  Andrew Palacios\n",
      "Michael ,  Michael Ulku-Steiner\n",
      "Tori ,  Tori Jueds \n",
      "Kim ,  Kim Diorio\n",
      "John ,  Mr. John Glennon Jr.\n",
      "Chuck ,  Chuck Harmon\n",
      "Tom ,  Tom Gibian\n",
      "William ,  Dr. William S. Hawkey \n",
      "Byron ,  Byron Lawson\n",
      "Jerry ,  Jerry Mayes\n",
      "Eric ,  Eric Grossman\n",
      "John ,  John Chambers\n",
      "Jon ,  Jon Guilliame\n",
      "Ron ,  Ron Kim\n",
      "Lisa ,  Lisa Huddleston\n",
      "Simon ,  Simon Owen-Williams\n",
      "Dennis ,  Dennis J. Lepold\n",
      "Meredyth ,  Meredyth Cole\n",
      "Jennifer ,  Jennifer Ciccarelli\n",
      "Matthew ,  Matthew Nespole\n",
      "Bob ,  Dr. Bob Ogle\n",
      "Julie ,   Julie Parks\n",
      "Charlie ,  Charlie Britton\n",
      "Janet ,  Janet Hartwell\n",
      "Brent ,  Brent Kuykendall\n",
      "Ramon ,  Ramon Moss\n",
      "Paul ,  Dr. Paul Baker\n",
      "Steve ,  Dr. Steve Bellis\n",
      "Tom ,  Dr. Tom Matthews \n",
      "Dennis ,  Dennis Manning\n",
      "Colleen ,  Colleen Gialanella\n",
      "Patrick ,   Mr. Patrick Gallagher \n",
      "William ,  William P. Hoey, Jr.\n",
      "Gary ,   Gary Krahn\n",
      "Gary ,  Gary Boehm\n",
      "Neil ,  Neil Cully\n",
      "Dianne ,  Dianne Drew \n",
      "Bradley ,  Bradley E. Lyman\n",
      "Jacqueline ,  Jacqueline Landry\n",
      "David ,  David Lourie\n",
      "Jack ,  Jack Delman\n",
      "Kenneth ,   Kenneth Bonamo\n",
      "Deena ,  Deena Levine\n",
      "John ,  John Thomas\n",
      "Fred ,  Fred Assaf\n",
      "Scott ,  Scott Wilson \n",
      "Joseph ,  Joseph Bradley\n",
      "Paul ,  Paul Viljoen\n",
      "Charley ,  Charley Stillwell\n",
      "Patrick ,  Patrick Roberts\n",
      "Paul ,  Paul Bianchi\n",
      "Paul ,  Paul A. Burke\n",
      "Daniel ,  Daniel McDonough\n",
      "Stuart ,  Stuart Dow\n",
      "Kate ,  Kate Morin\n",
      "Sidney ,  Sidney A. Rowell\n",
      "Jim ,  Jim Skrumbis\n"
     ]
    }
   ],
   "source": [
    "for i in range(len(emails)):\n",
    "    print(emails.loc[i,'First Name'], \", \", emails.loc[i, 'Name']) "
   ]
  },
  {
   "cell_type": "code",
   "execution_count": 45,
   "metadata": {
    "collapsed": true
   },
   "outputs": [],
   "source": [
    "from pandas import ExcelWriter\n",
    "writer = ExcelWriter('First Names.xlsx')\n",
    "emails[['Name', 'First Name']].to_excel(writer,'Sheet1')\n",
    "writer.save()"
   ]
  },
  {
   "cell_type": "code",
   "execution_count": 161,
   "metadata": {},
   "outputs": [
    {
     "data": {
      "text/plain": [
       "(220, b'2.0.0 Ready to start TLS')"
      ]
     },
     "execution_count": 161,
     "metadata": {},
     "output_type": "execute_result"
    }
   ],
   "source": [
    "#Connect to gmail\n",
    "server = smtplib.SMTP('smtp.gmail.com', 587)\n",
    "server.starttls()"
   ]
  },
  {
   "cell_type": "code",
   "execution_count": null,
   "metadata": {},
   "outputs": [],
   "source": [
    "#Request login information from user\n",
    "import getpass\n",
    "email_address = input('Please enter your email: \\n')\n",
    "password = getpass.getpass()\n",
    "server.login(email_address, password)\n"
   ]
  },
  {
   "cell_type": "code",
   "execution_count": 163,
   "metadata": {},
   "outputs": [
    {
     "name": "stdout",
     "output_type": "stream",
     "text": [
      "Please enter the subject of your email: \n",
      "TEST\n"
     ]
    }
   ],
   "source": [
    "#Enter Email Subject\n",
    "subject = input('Please enter the subject of your email: \\n')\n",
    "\n",
    "#Enter Email Message\n",
    "message = '''TEST EMAIL\n",
    "\n",
    "'''"
   ]
  },
  {
   "cell_type": "code",
   "execution_count": 166,
   "metadata": {},
   "outputs": [
    {
     "name": "stderr",
     "output_type": "stream",
     "text": [
      "send: 'mail FROM:<praterdaron513@gmail.com> size=106\\r\\n'\n",
      "reply: b'250 2.1.0 OK q127-v6sm561455ywb.90 - gsmtp\\r\\n'\n",
      "reply: retcode (250); Msg: b'2.1.0 OK q127-v6sm561455ywb.90 - gsmtp'\n",
      "send: 'rcpt TO:<praterdaron513@gmail.com>\\r\\n'\n",
      "reply: b'250 2.1.5 OK q127-v6sm561455ywb.90 - gsmtp\\r\\n'\n",
      "reply: retcode (250); Msg: b'2.1.5 OK q127-v6sm561455ywb.90 - gsmtp'\n",
      "send: 'data\\r\\n'\n",
      "reply: b'354  Go ahead q127-v6sm561455ywb.90 - gsmtp\\r\\n'\n",
      "reply: retcode (354); Msg: b'Go ahead q127-v6sm561455ywb.90 - gsmtp'\n",
      "data: (354, b'Go ahead q127-v6sm561455ywb.90 - gsmtp')\n",
      "send: b'From: praterdaron513@gmail.com\\r\\nTo: praterdaron513@gmail.com\\r\\nSubject: TEST\\r\\n\\r\\nHi John Palfrey, \\r\\n \\r\\nHello\\r\\n.\\r\\n'\n",
      "reply: b'250 2.0.0 OK 1525983227 q127-v6sm561455ywb.90 - gsmtp\\r\\n'\n",
      "reply: retcode (250); Msg: b'2.0.0 OK 1525983227 q127-v6sm561455ywb.90 - gsmtp'\n",
      "data: (250, b'2.0.0 OK 1525983227 q127-v6sm561455ywb.90 - gsmtp')\n",
      "send: 'mail FROM:<praterdaron513@gmail.com> size=109\\r\\n'\n",
      "reply: b'250 2.1.0 OK q127-v6sm561455ywb.90 - gsmtp\\r\\n'\n",
      "reply: retcode (250); Msg: b'2.1.0 OK q127-v6sm561455ywb.90 - gsmtp'\n",
      "send: 'rcpt TO:<praterdaron513@gmail.com>\\r\\n'\n",
      "reply: b'250 2.1.5 OK q127-v6sm561455ywb.90 - gsmtp\\r\\n'\n",
      "reply: retcode (250); Msg: b'2.1.5 OK q127-v6sm561455ywb.90 - gsmtp'\n",
      "send: 'data\\r\\n'\n",
      "reply: b'354  Go ahead q127-v6sm561455ywb.90 - gsmtp\\r\\n'\n",
      "reply: retcode (354); Msg: b'Go ahead q127-v6sm561455ywb.90 - gsmtp'\n",
      "data: (354, b'Go ahead q127-v6sm561455ywb.90 - gsmtp')\n",
      "send: b'From: praterdaron513@gmail.com\\r\\nTo: praterdaron513@gmail.com\\r\\nSubject: TEST\\r\\n\\r\\nHi Lisa MacFarlane, \\r\\n \\r\\nHello\\r\\n.\\r\\n'\n",
      "reply: b'250 2.0.0 OK 1525983229 q127-v6sm561455ywb.90 - gsmtp\\r\\n'\n",
      "reply: retcode (250); Msg: b'2.0.0 OK 1525983229 q127-v6sm561455ywb.90 - gsmtp'\n",
      "data: (250, b'2.0.0 OK 1525983229 q127-v6sm561455ywb.90 - gsmtp')\n",
      "send: 'mail FROM:<praterdaron513@gmail.com> size=105\\r\\n'\n",
      "reply: b'250 2.1.0 OK q127-v6sm561455ywb.90 - gsmtp\\r\\n'\n",
      "reply: retcode (250); Msg: b'2.1.0 OK q127-v6sm561455ywb.90 - gsmtp'\n",
      "send: 'rcpt TO:<praterdaron513@gmail.com>\\r\\n'\n",
      "reply: b'250 2.1.5 OK q127-v6sm561455ywb.90 - gsmtp\\r\\n'\n",
      "reply: retcode (250); Msg: b'2.1.5 OK q127-v6sm561455ywb.90 - gsmtp'\n",
      "send: 'data\\r\\n'\n",
      "reply: b'354  Go ahead q127-v6sm561455ywb.90 - gsmtp\\r\\n'\n",
      "reply: retcode (354); Msg: b'Go ahead q127-v6sm561455ywb.90 - gsmtp'\n",
      "data: (354, b'Go ahead q127-v6sm561455ywb.90 - gsmtp')\n",
      "send: b'From: praterdaron513@gmail.com\\r\\nTo: praterdaron513@gmail.com\\r\\nSubject: TEST\\r\\n\\r\\nHi Mark Bailey, \\r\\n \\r\\nHello\\r\\n.\\r\\n'\n",
      "reply: b'250 2.0.0 OK 1525983232 q127-v6sm561455ywb.90 - gsmtp\\r\\n'\n",
      "reply: retcode (250); Msg: b'2.0.0 OK 1525983232 q127-v6sm561455ywb.90 - gsmtp'\n",
      "data: (250, b'2.0.0 OK 1525983232 q127-v6sm561455ywb.90 - gsmtp')\n",
      "send: 'mail FROM:<praterdaron513@gmail.com> size=115\\r\\n'\n",
      "reply: b'250 2.1.0 OK q127-v6sm561455ywb.90 - gsmtp\\r\\n'\n",
      "reply: retcode (250); Msg: b'2.1.0 OK q127-v6sm561455ywb.90 - gsmtp'\n",
      "send: 'rcpt TO:<praterdaron513@gmail.com>\\r\\n'\n",
      "reply: b'250 2.1.5 OK q127-v6sm561455ywb.90 - gsmtp\\r\\n'\n",
      "reply: retcode (250); Msg: b'2.1.5 OK q127-v6sm561455ywb.90 - gsmtp'\n",
      "send: 'data\\r\\n'\n",
      "reply: b'354  Go ahead q127-v6sm561455ywb.90 - gsmtp\\r\\n'\n",
      "reply: retcode (354); Msg: b'Go ahead q127-v6sm561455ywb.90 - gsmtp'\n",
      "data: (354, b'Go ahead q127-v6sm561455ywb.90 - gsmtp')\n",
      "send: b'From: praterdaron513@gmail.com\\r\\nTo: praterdaron513@gmail.com\\r\\nSubject: TEST\\r\\n\\r\\nHi Stephen Sheals Murray, \\r\\n \\r\\nHello\\r\\n.\\r\\n'\n",
      "reply: b'250 2.0.0 OK 1525983235 q127-v6sm561455ywb.90 - gsmtp\\r\\n'\n",
      "reply: retcode (250); Msg: b'2.0.0 OK 1525983235 q127-v6sm561455ywb.90 - gsmtp'\n",
      "data: (250, b'2.0.0 OK 1525983235 q127-v6sm561455ywb.90 - gsmtp')\n",
      "send: 'mail FROM:<praterdaron513@gmail.com> size=109\\r\\n'\n",
      "reply: b'250 2.1.0 OK q127-v6sm561455ywb.90 - gsmtp\\r\\n'\n",
      "reply: retcode (250); Msg: b'2.1.0 OK q127-v6sm561455ywb.90 - gsmtp'\n",
      "send: 'rcpt TO:<praterdaron513@gmail.com>\\r\\n'\n",
      "reply: b'250 2.1.5 OK q127-v6sm561455ywb.90 - gsmtp\\r\\n'\n",
      "reply: retcode (250); Msg: b'2.1.5 OK q127-v6sm561455ywb.90 - gsmtp'\n",
      "send: 'data\\r\\n'\n",
      "reply: b'354  Go ahead q127-v6sm561455ywb.90 - gsmtp\\r\\n'\n",
      "reply: retcode (354); Msg: b'Go ahead q127-v6sm561455ywb.90 - gsmtp'\n",
      "data: (354, b'Go ahead q127-v6sm561455ywb.90 - gsmtp')\n",
      "send: b'From: praterdaron513@gmail.com\\r\\nTo: praterdaron513@gmail.com\\r\\nSubject: TEST\\r\\n\\r\\nHi Dr. Alex Curtis, \\r\\n \\r\\nHello\\r\\n.\\r\\n'\n",
      "reply: b'250 2.0.0 OK 1525983238 q127-v6sm561455ywb.90 - gsmtp\\r\\n'\n",
      "reply: retcode (250); Msg: b'2.0.0 OK 1525983238 q127-v6sm561455ywb.90 - gsmtp'\n",
      "data: (250, b'2.0.0 OK 1525983238 q127-v6sm561455ywb.90 - gsmtp')\n",
      "send: 'mail FROM:<praterdaron513@gmail.com> size=104\\r\\n'\n",
      "reply: b'250 2.1.0 OK q127-v6sm561455ywb.90 - gsmtp\\r\\n'\n",
      "reply: retcode (250); Msg: b'2.1.0 OK q127-v6sm561455ywb.90 - gsmtp'\n",
      "send: 'rcpt TO:<praterdaron513@gmail.com>\\r\\n'\n",
      "reply: b'250 2.1.5 OK q127-v6sm561455ywb.90 - gsmtp\\r\\n'\n",
      "reply: retcode (250); Msg: b'2.1.5 OK q127-v6sm561455ywb.90 - gsmtp'\n",
      "send: 'data\\r\\n'\n",
      "reply: b'354  Go ahead q127-v6sm561455ywb.90 - gsmtp\\r\\n'\n",
      "reply: retcode (354); Msg: b'Go ahead q127-v6sm561455ywb.90 - gsmtp'\n",
      "data: (354, b'Go ahead q127-v6sm561455ywb.90 - gsmtp')\n",
      "send: b'From: praterdaron513@gmail.com\\r\\nTo: praterdaron513@gmail.com\\r\\nSubject: TEST\\r\\n\\r\\nHi Bernie Noe, \\r\\n \\r\\nHello\\r\\n.\\r\\n'\n",
      "reply: b'250 2.0.0 OK 1525983240 q127-v6sm561455ywb.90 - gsmtp\\r\\n'\n",
      "reply: retcode (250); Msg: b'2.0.0 OK 1525983240 q127-v6sm561455ywb.90 - gsmtp'\n",
      "data: (250, b'2.0.0 OK 1525983240 q127-v6sm561455ywb.90 - gsmtp')\n",
      "send: 'mail FROM:<praterdaron513@gmail.com> size=111\\r\\n'\n",
      "reply: b'250 2.1.0 OK q127-v6sm561455ywb.90 - gsmtp\\r\\n'\n",
      "reply: retcode (250); Msg: b'2.1.0 OK q127-v6sm561455ywb.90 - gsmtp'\n",
      "send: 'rcpt TO:<praterdaron513@gmail.com>\\r\\n'\n",
      "reply: b'250 2.1.5 OK q127-v6sm561455ywb.90 - gsmtp\\r\\n'\n",
      "reply: retcode (250); Msg: b'2.1.5 OK q127-v6sm561455ywb.90 - gsmtp'\n",
      "send: 'data\\r\\n'\n",
      "reply: b'354  Go ahead q127-v6sm561455ywb.90 - gsmtp\\r\\n'\n",
      "reply: retcode (354); Msg: b'Go ahead q127-v6sm561455ywb.90 - gsmtp'\n",
      "data: (354, b'Go ahead q127-v6sm561455ywb.90 - gsmtp')\n",
      "send: b'From: praterdaron513@gmail.com\\r\\nTo: praterdaron513@gmail.com\\r\\nSubject: TEST\\r\\n\\r\\nHi Mrs. Kelly Mooney, \\r\\n \\r\\nHello\\r\\n.\\r\\n'\n",
      "reply: b'250 2.0.0 OK 1525983243 q127-v6sm561455ywb.90 - gsmtp\\r\\n'\n",
      "reply: retcode (250); Msg: b'2.0.0 OK 1525983243 q127-v6sm561455ywb.90 - gsmtp'\n",
      "data: (250, b'2.0.0 OK 1525983243 q127-v6sm561455ywb.90 - gsmtp')\n"
     ]
    },
    {
     "ename": "UnicodeEncodeError",
     "evalue": "'ascii' codec can't encode character '\\u2019' in position 97: ordinal not in range(128)",
     "output_type": "error",
     "traceback": [
      "\u001b[1;31m---------------------------------------------------------------------------\u001b[0m",
      "\u001b[1;31mUnicodeEncodeError\u001b[0m                        Traceback (most recent call last)",
      "\u001b[1;32m<ipython-input-166-89b086dc63b7>\u001b[0m in \u001b[0;36m<module>\u001b[1;34m()\u001b[0m\n\u001b[0;32m      8\u001b[0m     \u001b[0mmessage_text\u001b[0m \u001b[1;33m=\u001b[0m \u001b[1;34m\"Hi {}, \\r\\n \\r\\n\"\u001b[0m\u001b[1;33m.\u001b[0m\u001b[0mformat\u001b[0m\u001b[1;33m(\u001b[0m\u001b[0memails\u001b[0m\u001b[1;33m.\u001b[0m\u001b[0mloc\u001b[0m\u001b[1;33m[\u001b[0m\u001b[0mi\u001b[0m\u001b[1;33m,\u001b[0m\u001b[1;34m\"Name\"\u001b[0m\u001b[1;33m]\u001b[0m\u001b[1;33m)\u001b[0m \u001b[1;33m+\u001b[0m \u001b[0mmessage\u001b[0m\u001b[1;33m\u001b[0m\u001b[0m\n\u001b[0;32m      9\u001b[0m     \u001b[0mmessage_total\u001b[0m \u001b[1;33m=\u001b[0m \u001b[1;34m\"From: %s\\r\\n\"\u001b[0m \u001b[1;33m%\u001b[0m \u001b[0mfromaddr\u001b[0m \u001b[1;33m+\u001b[0m \u001b[1;34m\"To: %s\\r\\n\"\u001b[0m \u001b[1;33m%\u001b[0m \u001b[0mtoaddr\u001b[0m \u001b[1;33m+\u001b[0m \u001b[1;34m\"Subject: %s\\r\\n\"\u001b[0m \u001b[1;33m%\u001b[0m \u001b[0mmessage_subject\u001b[0m \u001b[1;33m+\u001b[0m \u001b[1;34m\"\\r\\n\"\u001b[0m \u001b[1;33m+\u001b[0m \u001b[0mmessage_text\u001b[0m\u001b[1;33m\u001b[0m\u001b[0m\n\u001b[1;32m---> 10\u001b[1;33m     \u001b[0mserver\u001b[0m\u001b[1;33m.\u001b[0m\u001b[0msendmail\u001b[0m\u001b[1;33m(\u001b[0m\u001b[0mfromaddr\u001b[0m\u001b[1;33m,\u001b[0m \u001b[0mtoaddrs\u001b[0m\u001b[1;33m,\u001b[0m \u001b[0mmessage_total\u001b[0m\u001b[1;33m)\u001b[0m\u001b[1;33m\u001b[0m\u001b[0m\n\u001b[0m\u001b[0;32m     11\u001b[0m     \u001b[0mtime\u001b[0m\u001b[1;33m.\u001b[0m\u001b[0msleep\u001b[0m\u001b[1;33m(\u001b[0m\u001b[1;36m2\u001b[0m\u001b[1;33m)\u001b[0m\u001b[1;33m\u001b[0m\u001b[0m\n",
      "\u001b[1;32m~\\AppData\\Local\\Continuum\\anaconda3\\lib\\smtplib.py\u001b[0m in \u001b[0;36msendmail\u001b[1;34m(self, from_addr, to_addrs, msg, mail_options, rcpt_options)\u001b[0m\n\u001b[0;32m    853\u001b[0m         \u001b[0mesmtp_opts\u001b[0m \u001b[1;33m=\u001b[0m \u001b[1;33m[\u001b[0m\u001b[1;33m]\u001b[0m\u001b[1;33m\u001b[0m\u001b[0m\n\u001b[0;32m    854\u001b[0m         \u001b[1;32mif\u001b[0m \u001b[0misinstance\u001b[0m\u001b[1;33m(\u001b[0m\u001b[0mmsg\u001b[0m\u001b[1;33m,\u001b[0m \u001b[0mstr\u001b[0m\u001b[1;33m)\u001b[0m\u001b[1;33m:\u001b[0m\u001b[1;33m\u001b[0m\u001b[0m\n\u001b[1;32m--> 855\u001b[1;33m             \u001b[0mmsg\u001b[0m \u001b[1;33m=\u001b[0m \u001b[0m_fix_eols\u001b[0m\u001b[1;33m(\u001b[0m\u001b[0mmsg\u001b[0m\u001b[1;33m)\u001b[0m\u001b[1;33m.\u001b[0m\u001b[0mencode\u001b[0m\u001b[1;33m(\u001b[0m\u001b[1;34m'ascii'\u001b[0m\u001b[1;33m)\u001b[0m\u001b[1;33m\u001b[0m\u001b[0m\n\u001b[0m\u001b[0;32m    856\u001b[0m         \u001b[1;32mif\u001b[0m \u001b[0mself\u001b[0m\u001b[1;33m.\u001b[0m\u001b[0mdoes_esmtp\u001b[0m\u001b[1;33m:\u001b[0m\u001b[1;33m\u001b[0m\u001b[0m\n\u001b[0;32m    857\u001b[0m             \u001b[1;32mif\u001b[0m \u001b[0mself\u001b[0m\u001b[1;33m.\u001b[0m\u001b[0mhas_extn\u001b[0m\u001b[1;33m(\u001b[0m\u001b[1;34m'size'\u001b[0m\u001b[1;33m)\u001b[0m\u001b[1;33m:\u001b[0m\u001b[1;33m\u001b[0m\u001b[0m\n",
      "\u001b[1;31mUnicodeEncodeError\u001b[0m: 'ascii' codec can't encode character '\\u2019' in position 97: ordinal not in range(128)"
     ]
    }
   ],
   "source": [
    "#Send emails\n",
    "for i in range(len(emails)):\n",
    "    toaddr = emails.loc[i,'Email address']\n",
    "    fromaddr = email_address\n",
    "    toaddrs = [toaddr]\n",
    "    server.set_debuglevel(1)\n",
    "    message_subject = subject\n",
    "    message_text = \"Hi {}, \\r\\n \\r\\n\".format(emails.loc[i,\"Name\"]) + message\n",
    "    message_total = \"From: %s\\r\\n\" % fromaddr + \"To: %s\\r\\n\" % toaddr + \"Subject: %s\\r\\n\" % message_subject + \"\\r\\n\" + message_text\n",
    "    server.sendmail(fromaddr, toaddrs, message_total)\n",
    "    time.sleep(2)"
   ]
  },
  {
   "cell_type": "code",
   "execution_count": null,
   "metadata": {
    "collapsed": true
   },
   "outputs": [],
   "source": [
    "server.quit"
   ]
  },
  {
   "cell_type": "code",
   "execution_count": 178,
   "metadata": {
    "collapsed": true
   },
   "outputs": [],
   "source": [
    "import re"
   ]
  },
  {
   "cell_type": "code",
   "execution_count": 181,
   "metadata": {
    "collapsed": true
   },
   "outputs": [],
   "source": [
    "pattern = re.compile('[a-zA-Z]+')"
   ]
  },
  {
   "cell_type": "code",
   "execution_count": 183,
   "metadata": {},
   "outputs": [
    {
     "data": {
      "text/plain": [
       "'abcde'"
      ]
     },
     "execution_count": 183,
     "metadata": {},
     "output_type": "execute_result"
    }
   ],
   "source": [
    "pattern.match('abcde]').group()"
   ]
  },
  {
   "cell_type": "code",
   "execution_count": null,
   "metadata": {
    "collapsed": true
   },
   "outputs": [],
   "source": []
  }
 ],
 "metadata": {
  "kernelspec": {
   "display_name": "Python 3",
   "language": "python",
   "name": "python3"
  },
  "language_info": {
   "codemirror_mode": {
    "name": "ipython",
    "version": 3
   },
   "file_extension": ".py",
   "mimetype": "text/x-python",
   "name": "python",
   "nbconvert_exporter": "python",
   "pygments_lexer": "ipython3",
   "version": "3.6.1"
  }
 },
 "nbformat": 4,
 "nbformat_minor": 2
}
