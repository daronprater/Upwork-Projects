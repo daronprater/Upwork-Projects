{
 "cells": [
  {
   "cell_type": "code",
   "execution_count": 1,
   "metadata": {
    "collapsed": true
   },
   "outputs": [],
   "source": [
    "import requests\n",
    "import pandas as pd\n",
    "from bs4 import BeautifulSoup"
   ]
  },
  {
   "cell_type": "code",
   "execution_count": 13,
   "metadata": {
    "collapsed": true
   },
   "outputs": [],
   "source": [
    "def extract_source(url):\n",
    "    headers = {'User-Agent': 'Mozilla/5.0 (Windows NT 6.1; WOW64; rv:50.0) Gecko/20100101 Firefox/50.0'}\n",
    "    source=requests.get(url, headers=headers).text\n",
    "    return source"
   ]
  },
  {
   "cell_type": "code",
   "execution_count": 17,
   "metadata": {},
   "outputs": [],
   "source": [
    "text = extract_source('https://www.usnews.com/education/best-high-schools/national-rankings')\n"
   ]
  },
  {
   "cell_type": "code",
   "execution_count": 18,
   "metadata": {},
   "outputs": [],
   "source": [
    "soup = BeautifulSoup(text, 'lxml')"
   ]
  },
  {
   "cell_type": "code",
   "execution_count": 25,
   "metadata": {},
   "outputs": [],
   "source": [
    "def get_schools(soup):\n",
    "        '''This function get's the column names to use for the data frame.'''\n",
    "        schools_list = []\n",
    "    \n",
    "        #Get rounds header\n",
    "        schools = soup.find_all(class_=\"search-result-link\").get_text()\n",
    "        schools_list.append(schools)\n",
    "        return schools_list\n",
    "    \n"
   ]
  },
  {
   "cell_type": "code",
   "execution_count": 36,
   "metadata": {},
   "outputs": [
    {
     "name": "stdout",
     "output_type": "stream",
     "text": [
      "BASIS Scottsdale\n",
      "BASIS Tucson North\n",
      "BASIS Oro Valley\n",
      "School for the Talented and Gifted\n",
      "BASIS Peoria\n",
      "Thomas Jefferson High School for Science and Technology\n",
      "BASIS Chandler\n",
      "Carnegie Vanguard High School\n",
      "School of Science and Engineering\n",
      "Pacific Collegiate Charter\n",
      "Academic Magnet High School\n",
      "Oxford Academy\n",
      "Pine View School\n",
      "Whitney High School\n",
      "University High School (Tucson)\n",
      "High Technology High School\n",
      "High School of American Studies at Lehman College\n",
      "DeBakey High School for Health Professions\n",
      "Maine School of Science and Mathematics\n",
      "Amistad Academy\n"
     ]
    }
   ],
   "source": [
    "for school in soup.find_all(class_=\"search-result-link\"):\n",
    "    print(school.text)"
   ]
  },
  {
   "cell_type": "code",
   "execution_count": 73,
   "metadata": {
    "collapsed": true
   },
   "outputs": [],
   "source": [
    "from selenium import webdriver\n",
    "from selenium.common.exceptions import TimeoutException, NoSuchElementException\n",
    "from selenium.webdriver.common.by import By\n",
    "from selenium.webdriver.support.ui import WebDriverWait\n",
    "from selenium.webdriver.support import expected_conditions as EC"
   ]
  },
  {
   "cell_type": "code",
   "execution_count": 89,
   "metadata": {},
   "outputs": [],
   "source": [
    "driver = webdriver.Chrome(r'C:\\Users\\daron\\Downloads\\chromedriver_win32\\chromedriver.exe')"
   ]
  },
  {
   "cell_type": "code",
   "execution_count": 90,
   "metadata": {
    "collapsed": true
   },
   "outputs": [],
   "source": [
    "driver.get(\"https://www.usnews.com/education/best-high-schools/national-rankings\")"
   ]
  },
  {
   "cell_type": "code",
   "execution_count": 78,
   "metadata": {},
   "outputs": [],
   "source": [
    "# click more until no more results to load\n",
    "button = driver.find_element_by_xpath(\"//a[@data-js-id='load-more-button']\")"
   ]
  },
  {
   "cell_type": "code",
   "execution_count": 79,
   "metadata": {
    "collapsed": true
   },
   "outputs": [],
   "source": [
    "button.click()"
   ]
  },
  {
   "cell_type": "code",
   "execution_count": 91,
   "metadata": {
    "collapsed": true
   },
   "outputs": [],
   "source": [
    "import time"
   ]
  },
  {
   "cell_type": "code",
   "execution_count": 92,
   "metadata": {},
   "outputs": [
    {
     "name": "stdout",
     "output_type": "stream",
     "text": [
      "getting page number 1\n",
      "getting page number 2\n",
      "getting page number 3\n",
      "getting page number 4\n",
      "getting page number 5\n",
      "getting page number 6\n",
      "getting page number 7\n",
      "getting page number 8\n",
      "getting page number 9\n",
      "getting page number 10\n",
      "getting page number 11\n",
      "getting page number 12\n",
      "getting page number 13\n",
      "getting page number 14\n",
      "getting page number 15\n",
      "getting page number 16\n",
      "getting page number 17\n",
      "getting page number 18\n",
      "getting page number 19\n",
      "getting page number 20\n",
      "getting page number 21\n",
      "getting page number 22\n",
      "getting page number 23\n",
      "getting page number 24\n",
      "getting page number 25\n",
      "getting page number 26\n",
      "getting page number 27\n",
      "getting page number 28\n",
      "getting page number 29\n",
      "getting page number 30\n",
      "getting page number 31\n",
      "getting page number 32\n",
      "getting page number 33\n",
      "getting page number 34\n",
      "getting page number 35\n",
      "getting page number 36\n",
      "getting page number 37\n",
      "getting page number 38\n",
      "getting page number 39\n",
      "getting page number 40\n",
      "getting page number 41\n",
      "getting page number 42\n",
      "getting page number 43\n",
      "getting page number 44\n",
      "getting page number 45\n",
      "getting page number 46\n",
      "getting page number 47\n",
      "getting page number 48\n",
      "getting page number 49\n",
      "getting page number 50\n",
      "getting page number 51\n"
     ]
    }
   ],
   "source": [
    "page_num = 0\n",
    "while page_num<=50:\n",
    "    driver.find_element_by_xpath(\"//a[@data-js-id='load-more-button']\").click()\n",
    "    page_num += 1\n",
    "    print(\"getting page number \"+str(page_num))\n",
    "    time.sleep(3)"
   ]
  },
  {
   "cell_type": "code",
   "execution_count": 93,
   "metadata": {},
   "outputs": [],
   "source": [
    "html = driver.page_source.encode('utf-8')"
   ]
  },
  {
   "cell_type": "code",
   "execution_count": 95,
   "metadata": {},
   "outputs": [],
   "source": [
    "soup = BeautifulSoup(html, 'lxml')"
   ]
  },
  {
   "cell_type": "code",
   "execution_count": 99,
   "metadata": {},
   "outputs": [],
   "source": [
    "schools = []\n",
    "for school in soup.find_all(class_=\"search-result-link\"):\n",
    "    schools.append(school.text)\n"
   ]
  },
  {
   "cell_type": "code",
   "execution_count": 104,
   "metadata": {},
   "outputs": [],
   "source": [
    "df = pd.DataFrame(schools, index=[i for i in range(len(schools))], columns=['Schools'])"
   ]
  },
  {
   "cell_type": "code",
   "execution_count": 106,
   "metadata": {},
   "outputs": [
    {
     "data": {
      "text/html": [
       "<div>\n",
       "<style>\n",
       "    .dataframe thead tr:only-child th {\n",
       "        text-align: right;\n",
       "    }\n",
       "\n",
       "    .dataframe thead th {\n",
       "        text-align: left;\n",
       "    }\n",
       "\n",
       "    .dataframe tbody tr th {\n",
       "        vertical-align: top;\n",
       "    }\n",
       "</style>\n",
       "<table border=\"1\" class=\"dataframe\">\n",
       "  <thead>\n",
       "    <tr style=\"text-align: right;\">\n",
       "      <th></th>\n",
       "      <th>Schools</th>\n",
       "    </tr>\n",
       "  </thead>\n",
       "  <tbody>\n",
       "    <tr>\n",
       "      <th>0</th>\n",
       "      <td>BASIS Scottsdale</td>\n",
       "    </tr>\n",
       "    <tr>\n",
       "      <th>1</th>\n",
       "      <td>BASIS Tucson North</td>\n",
       "    </tr>\n",
       "    <tr>\n",
       "      <th>2</th>\n",
       "      <td>BASIS Oro Valley</td>\n",
       "    </tr>\n",
       "    <tr>\n",
       "      <th>3</th>\n",
       "      <td>School for the Talented and Gifted</td>\n",
       "    </tr>\n",
       "    <tr>\n",
       "      <th>4</th>\n",
       "      <td>BASIS Peoria</td>\n",
       "    </tr>\n",
       "  </tbody>\n",
       "</table>\n",
       "</div>"
      ],
      "text/plain": [
       "                              Schools\n",
       "0                    BASIS Scottsdale\n",
       "1                  BASIS Tucson North\n",
       "2                    BASIS Oro Valley\n",
       "3  School for the Talented and Gifted\n",
       "4                        BASIS Peoria"
      ]
     },
     "execution_count": 106,
     "metadata": {},
     "output_type": "execute_result"
    }
   ],
   "source": [
    "df.head()"
   ]
  },
  {
   "cell_type": "code",
   "execution_count": 107,
   "metadata": {
    "collapsed": true
   },
   "outputs": [],
   "source": [
    "from pandas import ExcelWriter"
   ]
  },
  {
   "cell_type": "code",
   "execution_count": 110,
   "metadata": {},
   "outputs": [],
   "source": [
    "writer = ExcelWriter('SchoolRankings.xlsx')\n",
    "df.to_excel(writer,'Sheet1')\n",
    "writer.save()\n"
   ]
  },
  {
   "cell_type": "code",
   "execution_count": null,
   "metadata": {
    "collapsed": true
   },
   "outputs": [],
   "source": []
  }
 ],
 "metadata": {
  "kernelspec": {
   "display_name": "Python 3",
   "language": "python",
   "name": "python3"
  },
  "language_info": {
   "codemirror_mode": {
    "name": "ipython",
    "version": 3
   },
   "file_extension": ".py",
   "mimetype": "text/x-python",
   "name": "python",
   "nbconvert_exporter": "python",
   "pygments_lexer": "ipython3",
   "version": "3.6.3"
  }
 },
 "nbformat": 4,
 "nbformat_minor": 2
}
